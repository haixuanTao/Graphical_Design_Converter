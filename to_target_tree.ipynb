{
 "cells": [
  {
   "cell_type": "code",
   "execution_count": 7,
   "metadata": {
    "ExecuteTime": {
     "end_time": "2019-03-12T14:34:07.527746Z",
     "start_time": "2019-03-12T14:34:07.524245Z"
    },
    "collapsed": true
   },
   "outputs": [],
   "source": [
    "import pandas as pd\n",
    "import json"
   ]
  },
  {
   "cell_type": "code",
   "execution_count": 8,
   "metadata": {
    "ExecuteTime": {
     "end_time": "2019-03-12T14:34:07.773365Z",
     "start_time": "2019-03-12T14:34:07.726779Z"
    },
    "collapsed": true
   },
   "outputs": [],
   "source": [
    "df1 = pd.read_excel(\"Arbre region département.xlsx\")\n",
    "df2 = pd.read_excel(\"Arbre region département.xlsx\",sheet_name=\"nodes\")\n",
    "dics = {}\n",
    "a = json.loads(df1.to_json(orient=\"records\"))\n",
    "b = json.loads(df2.to_json(orient=\"records\"))\n",
    "dics[\"nodes\"] = b\n",
    "dics[\"links\"] = a\n",
    "with open('data.json', 'w') as outfile:\n",
    "    json.dump(dics, outfile)"
   ]
  },
  {
   "cell_type": "code",
   "execution_count": null,
   "metadata": {
    "collapsed": true
   },
   "outputs": [],
   "source": []
  }
 ],
 "metadata": {
  "kernelspec": {
   "display_name": "Python 3",
   "language": "python",
   "name": "python3"
  },
  "language_info": {
   "codemirror_mode": {
    "name": "ipython",
    "version": 3
   },
   "file_extension": ".py",
   "mimetype": "text/x-python",
   "name": "python",
   "nbconvert_exporter": "python",
   "pygments_lexer": "ipython3",
   "version": "3.6.8"
  }
 },
 "nbformat": 4,
 "nbformat_minor": 2
}
